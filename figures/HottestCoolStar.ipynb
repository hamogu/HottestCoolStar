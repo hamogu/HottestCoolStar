{
 "cells": [
  {
   "cell_type": "markdown",
   "metadata": {},
   "source": [
    "# A science walk-through combining CIAO and astropy in a single workflow\n",
    "## Science topic: What is the hottest Cool Star?\n",
    "In recent years, we have made it much easier to control your CIAO analysis from Python. While it is still possible to call CIAO tools on the command line (either by hand or by means of a script, e.g. in bash or Python), that is no longer the only viable option for scripting. In particular, the `ciao_contrib` package (which is part of the default CIAO install), includes code to call CIAO tasks nicely from Python. In CIAO 4.13, we then made it much easier to install other Python packages into the same Python environment that is set up with CIAO. That really simplifies many workflows, because it is now possible to seamlessly combine CIAO analysis with other Python packages in one script or one Jupyter notebook. In particular, we can use CIAO tools and [astropy](https:///www.astropy.org) or astropy affiliated packages together.\n",
    "\n",
    "This notebook walks through one full science example from downloading the data from the Chandra archive to data reduction and making publication quality figures. In fact, the analysis shown here and the figures made here can all be discussed in detail in [Günther et al. (2021)](https://adswww.harvard.edu).\n",
    "\n",
    "This notebook is a little different from typical CIAO threads in two ways:\n",
    "\n",
    "- It makes use of Python packages not distributed with CIAO (We will explain how to install them when needed).\n",
    "- Instead of explaining one particular topic in depth (e.g. how to reduce HRC imaging data in different situations), it goes through all the steps of a full science analysis, but with limited explanations."
   ]
  },
  {
   "cell_type": "code",
   "execution_count": 207,
   "metadata": {},
   "outputs": [],
   "source": [
    "import sys\n",
    "from glob import glob\n",
    "\n",
    "import numpy as np\n",
    "from astropy.table import QTable, Table, hstack\n",
    "from astropy.io import fits, ascii\n",
    "from astropy.wcs import WCS\n",
    "from astropy.coordinates import SkyCoord, Distance\n",
    "from astropy.time import Time\n",
    "from astroquery.simbad import Simbad\n",
    "from astroquery import vizier\n",
    "import astropy.units as u\n",
    "from astropy.visualization.wcsaxes import SphericalCircle\n",
    "from astropy.stats import poisson_conf_interval\n",
    "\n",
    "from matplotlib import pyplot as plt\n",
    "from matplotlib.ticker import MaxNLocator\n",
    "\n",
    "from ciao_contrib import runtool as rt\n",
    "from ciao_contrib.cda.data import download_chandra_obsids\n",
    "\n",
    "%matplotlib inline"
   ]
  },
  {
   "cell_type": "code",
   "execution_count": 2,
   "metadata": {},
   "outputs": [],
   "source": [
    "obsids = [18930, 18931, 18932, 18933]"
   ]
  },
  {
   "cell_type": "markdown",
   "metadata": {},
   "source": [
    "### Download the data\n",
    "Almost all CIAO tasks are called from the `ciao_contrib.runtool` module. The one exception to this is downloaded data, which is done from the `ciao_contrib.cda.data` module.\n",
    "\n",
    "Note that this can take a while and the default configuration does not write anything to the screen in between.\n",
    "Your script is not \"hanging\", it's downloading!"
   ]
  },
  {
   "cell_type": "code",
   "execution_count": 2,
   "metadata": {},
   "outputs": [],
   "source": [
    "rval = download_chandra_obsids(obsids)\n",
    "if not np.all(rval):\n",
    "    print('The following ObsIDs do not exisit: ', np.array(obsids)[rval])"
   ]
  },
  {
   "cell_type": "markdown",
   "metadata": {},
   "source": [
    "###  `chandra_repro`\n",
    "The data from the archive may or may not have gone through recent reprocessing. Just in case, it's always best to run the `chandra_repro` script on it again. Note that this step can take a few minutes, just like the downloading. If you already downloaded and reprocessed the data and are just re-runnng the notebook to change something further down, you cna save the time and just skip this step."
   ]
  },
  {
   "cell_type": "code",
   "execution_count": 5,
   "metadata": {},
   "outputs": [
    {
     "data": {
      "text/plain": [
       "\n",
       "Running chandra_repro\n",
       "version: 01 December 2020\n",
       "\n",
       "WARNING: \"set_ardlib=yes\" cannot be used with multiple input directories.  Changing to \"no\"\n",
       "\n",
       "Input is not a directory: 'WhatIsTheHottstCoolStar.ipynb'. Skipping it\n",
       "\n",
       "\n",
       "Processing input directory '/Users/hamogu/projects/Chandraprojects/HotestCoolStar/18930'\n",
       "\n",
       "No boresight correction update to asol file is needed.\n",
       "\n",
       "Running hrc_build_badpix to create new bad pixel file...\n",
       "\n",
       "Running hrc_process_events to reprocess the evt1.fits file...\n",
       "Output from hrc_process_events:\n",
       "# hrc_process_events (CIAO 4.13): The following error occurred 38 times:\n",
       "\tdsHPEEVENTSEQERR -- WARNING: Out of sequence events discovered in /Users/hamogu/projects/Chandraprojects/HotestCoolStar/18930/secondary/hrcf18930_000N002_evt1.fits.\n",
       "Filtering the evt1.fits file on grade and status...\n",
       "Applying the good time intervals from the flt1.fits file...\n",
       "\n",
       "Running hrc_dtfstats to recompute the average dead time corrections...\n",
       "The new level=2 event file is: /Users/hamogu/projects/Chandraprojects/HotestCoolStar/18930/repro/hrcf18930_repro_evt2.fits\n",
       "\n",
       "Updating the event file header with chandra_repro HISTORY record\n",
       "Creating FOV file...\n",
       "\n",
       "Cleaning up intermediate files\n",
       "\n",
       "The data have been reprocessed.\n",
       "Start your analysis with the new products in\n",
       "/Users/hamogu/projects/Chandraprojects/HotestCoolStar/18930/repro\n",
       "\n",
       "\n",
       "Processing input directory '/Users/hamogu/projects/Chandraprojects/HotestCoolStar/18931'\n",
       "\n",
       "No boresight correction update to asol file is needed.\n",
       "\n",
       "Running hrc_build_badpix to create new bad pixel file...\n",
       "\n",
       "Running hrc_process_events to reprocess the evt1.fits file...\n",
       "Output from hrc_process_events:\n",
       "# hrc_process_events (CIAO 4.13): The following error occurred 44 times:\n",
       "\tdsHPEEVENTSEQERR -- WARNING: Out of sequence events discovered in /Users/hamogu/projects/Chandraprojects/HotestCoolStar/18931/secondary/hrcf18931_001N002_evt1.fits.\n",
       "# hrc_process_events (CIAO 4.13): The following error occurred 2 times:\n",
       "\tWARNING: can't find a proper degap value for this raw coord. in hrcf18931_001N002_evt1.fits\n",
       "Filtering the evt1.fits file on grade and status...\n",
       "Applying the good time intervals from the flt1.fits file...\n",
       "\n",
       "Running hrc_dtfstats to recompute the average dead time corrections...\n",
       "The new level=2 event file is: /Users/hamogu/projects/Chandraprojects/HotestCoolStar/18931/repro/hrcf18931_repro_evt2.fits\n",
       "\n",
       "Updating the event file header with chandra_repro HISTORY record\n",
       "Creating FOV file...\n",
       "\n",
       "Cleaning up intermediate files\n",
       "\n",
       "The data have been reprocessed.\n",
       "Start your analysis with the new products in\n",
       "/Users/hamogu/projects/Chandraprojects/HotestCoolStar/18931/repro\n",
       "\n",
       "\n",
       "Processing input directory '/Users/hamogu/projects/Chandraprojects/HotestCoolStar/18932'\n",
       "\n",
       "No boresight correction update to asol file is needed.\n",
       "\n",
       "Running hrc_build_badpix to create new bad pixel file...\n",
       "\n",
       "Running hrc_process_events to reprocess the evt1.fits file...\n",
       "Output from hrc_process_events:\n",
       "# hrc_process_events (CIAO 4.13): The following error occurred 30 times:\n",
       "\tdsHPEEVENTSEQERR -- WARNING: Out of sequence events discovered in /Users/hamogu/projects/Chandraprojects/HotestCoolStar/18932/secondary/hrcf18932_000N002_evt1.fits.\n",
       "# hrc_process_events (CIAO 4.13): WARNING: can't find a proper degap value for this raw coord. in hrcf18932_000N002_evt1.fits\n",
       "Filtering the evt1.fits file on grade and status...\n",
       "Applying the good time intervals from the flt1.fits file...\n",
       "\n",
       "Running hrc_dtfstats to recompute the average dead time corrections...\n",
       "The new level=2 event file is: /Users/hamogu/projects/Chandraprojects/HotestCoolStar/18932/repro/hrcf18932_repro_evt2.fits\n",
       "\n",
       "Updating the event file header with chandra_repro HISTORY record\n",
       "Creating FOV file...\n",
       "\n",
       "Cleaning up intermediate files\n",
       "\n",
       "The data have been reprocessed.\n",
       "Start your analysis with the new products in\n",
       "/Users/hamogu/projects/Chandraprojects/HotestCoolStar/18932/repro\n",
       "\n",
       "\n",
       "Processing input directory '/Users/hamogu/projects/Chandraprojects/HotestCoolStar/18933'\n",
       "\n",
       "No boresight correction update to asol file is needed.\n",
       "\n",
       "Running hrc_build_badpix to create new bad pixel file...\n",
       "\n",
       "Running hrc_process_events to reprocess the evt1.fits file...\n",
       "Output from hrc_process_events:\n",
       "# hrc_process_events (CIAO 4.13): The following error occurred 45 times:\n",
       "\tdsHPEEVENTSEQERR -- WARNING: Out of sequence events discovered in /Users/hamogu/projects/Chandraprojects/HotestCoolStar/18933/secondary/hrcf18933_000N002_evt1.fits.\n",
       "Filtering the evt1.fits file on grade and status...\n",
       "Applying the good time intervals from the flt1.fits file...\n",
       "\n",
       "Running hrc_dtfstats to recompute the average dead time corrections...\n",
       "The new level=2 event file is: /Users/hamogu/projects/Chandraprojects/HotestCoolStar/18933/repro/hrcf18933_repro_evt2.fits\n",
       "\n",
       "Updating the event file header with chandra_repro HISTORY record\n",
       "Creating FOV file...\n",
       "\n",
       "Cleaning up intermediate files\n",
       "\n",
       "The data have been reprocessed.\n",
       "Start your analysis with the new products in\n",
       "/Users/hamogu/projects/Chandraprojects/HotestCoolStar/18933/repro"
      ]
     },
     "execution_count": 5,
     "metadata": {},
     "output_type": "execute_result"
    }
   ],
   "source": [
    "# process all dirs with default settings\n",
    "rt.chandra_repro(indir= \"*\", outdir=\"\")"
   ]
  },
  {
   "cell_type": "markdown",
   "metadata": {},
   "source": [
    "## Can we imporve the accuracy of the astrometry by cross-matching with other catalogs?\n",
    "That only works if there are multiple other sources in the FOV that are bright and unambiguously matched to some other catalog. To get an idea, I first looked interactively in DS9 and loaded the SIMBAD catalog. OBsIDS 18932 and 18933 have one SIMBAD source, that's visible in the HRC data each both of which seem to match well, but let's get a number on that.\n",
    "\n"
   ]
  },
  {
   "cell_type": "code",
   "execution_count": 18,
   "metadata": {},
   "outputs": [
    {
     "name": "stdout",
     "output_type": "stream",
     "text": [
      "Working on  18930\n",
      "Working on  18931\n",
      "Working on  18932\n",
      "Working on  18933\n"
     ]
    }
   ],
   "source": [
    "for obsid in obsids:\n",
    "    print('Working on ', obsid)\n",
    "    fileevt2 = glob(f'{obsid}/repro/*evt2*')[0]\n",
    "    asol = glob(f'{obsid}/repro/pcad*asol*')[0]\n",
    "    bpix = glob(f'{obsid}/repro/*bpix*')[0]\n",
    "    rt.ardlib.AXAF_HRC_I_BADPIX_FILE = bpix\n",
    "    rt.ardlib.write_params()\n",
    "    # Choice of binning cuts off the edges of the FOV for some observations\n",
    "    # but (i) in those regions the PSF is very large and not useful for\n",
    "    # us to improve astronmetry anyway and (ii) there are no bright sources\n",
    "    # (as seen interactively in ds9).\n",
    "    # On the other hand, wavedect takes much longer with bigger files\n",
    "    rt.dmcopy(infile=f\"{fileevt2}[bin x=8000:24000:4,y=8000:24000:4]\", \n",
    "              outfile=f'{obsid}/image.fits', clobber=True, option='image')\n",
    "    rt.mkpsfmap(infile=f'{obsid}/image.fits', outfile=f'{obsid}/psfmap.fits',\n",
    "                energy=1.5, ecf=0.393, clobber=True)\n",
    "    rt.wavdetect.punlearn()\n",
    "    rt.wavdetect(infile=f'{obsid}/image.fits', psffile=f'{obsid}/psfmap.fits',\n",
    "                 outfile=f'{obsid}/src.fits', scellfile=f'{obsid}/scell.fits', imagefile=f'{obsid}/imgfile.fits',\n",
    "                 defnbkgfile=f'{obsid}/nbgd.fits', regfile=f'{obsid}/src.reg', \n",
    "                 clobber=True,  # just in case we run the same notebook again, we probably want to overwrite\n",
    "                 scales='2 4 8 16', # We only care for point sources or small sources.\n",
    "                                 # Large, resolved sources won't help us with astrometry\n",
    "                 sigthresh=1e-6  # We want bright, highly significant sources\n",
    "                 )\n"
   ]
  },
  {
   "cell_type": "code",
   "execution_count": 108,
   "metadata": {},
   "outputs": [],
   "source": [
    "myVizier = vizier.Vizier(row_limit=5000)"
   ]
  },
  {
   "cell_type": "code",
   "execution_count": 109,
   "metadata": {},
   "outputs": [
    {
     "name": "stdout",
     "output_type": "stream",
     "text": [
      "Working on  18930\n",
      "1956\n",
      "An error occurred while running 'wcs_match':\n",
      "  # wcs_match (CIAO 4.13): WARNING: Ref src x_err or ra_err cols not found.  Assuming x_err = 1.\n",
      "  # wcs_match (CIAO 4.13): WARNING: Ref src y_err or dec_err cols not found.  Assuming y_err = 1.\n",
      "  # wcs_match (CIAO 4.13): ERROR: Cannot find at least 3 source matches between reference and duplicate source files (method=rst).\n",
      "   input (dup) src file : 18930/src.fits\n",
      "   input ref src file   : 18930/2mass.csv\n",
      "   input wcsfile        : 18930/repro/hrcf18930_repro_evt2.fits\n",
      "   debug level          : 1\n",
      "  \n",
      "  0 common sources found between: \n",
      "  18930/2mass.csv\n",
      "  18930/src.fits\n",
      "  After deleting poor matches, 0 sources remain\n",
      "Working on  18931\n",
      "385\n",
      "An error occurred while running 'wcs_match':\n",
      "  # wcs_match (CIAO 4.13): WARNING: Ref src x_err or ra_err cols not found.  Assuming x_err = 1.\n",
      "  # wcs_match (CIAO 4.13): WARNING: Ref src y_err or dec_err cols not found.  Assuming y_err = 1.\n",
      "  # wcs_match (CIAO 4.13): ERROR: Cannot find at least 3 source matches between reference and duplicate source files (method=rst).\n",
      "   input (dup) src file : 18931/src.fits\n",
      "   input ref src file   : 18931/2mass.csv\n",
      "   input wcsfile        : 18931/repro/hrcf18931_repro_evt2.fits\n",
      "   debug level          : 1\n",
      "  \n",
      "  2 common sources found between: \n",
      "  18931/2mass.csv\n",
      "  18931/src.fits\n",
      "  After deleting poor matches, 2 sources remain\n",
      "Working on  18932\n",
      "404\n",
      "An error occurred while running 'wcs_match':\n",
      "  # wcs_match (CIAO 4.13): WARNING: Ref src x_err or ra_err cols not found.  Assuming x_err = 1.\n",
      "  # wcs_match (CIAO 4.13): WARNING: Ref src y_err or dec_err cols not found.  Assuming y_err = 1.\n",
      "  # wcs_match (CIAO 4.13): ERROR: Cannot find at least 3 source matches between reference and duplicate source files (method=rst).\n",
      "   input (dup) src file : 18932/src.fits\n",
      "   input ref src file   : 18932/2mass.csv\n",
      "   input wcsfile        : 18932/repro/hrcf18932_repro_evt2.fits\n",
      "   debug level          : 1\n",
      "  \n",
      "  1 common sources found between: \n",
      "  18932/2mass.csv\n",
      "  18932/src.fits\n",
      "  After deleting poor matches, 1 sources remain\n",
      "Working on  18933\n",
      "390\n"
     ]
    }
   ],
   "source": [
    "for obsid in obsids:\n",
    "    print('Working on ', obsid)\n",
    "    fileevt2 = glob(f'{obsid}/repro/*evt2*')[0]\n",
    "    twomass = myVizier.query_region(fits.getval(fileevt2, 'OBJECT', ext=('EVENTS', 1)), \n",
    "                                  radius=.3*u.deg, catalog='II/246/out')\n",
    "    twomass[0].rename_column('RAJ2000', 'RA')\n",
    "    twomass[0].rename_column('DEJ2000', 'DEC')\n",
    "    twomass[0].write(f'{obsid}/2mass.csv', format='ascii.commented_header', overwrite=True)\n",
    "    print(len(twomass[0]))\n",
    "    try:\n",
    "        rt.wcs_match(infile=f'{obsid}/src.fits', refsrcfile=f'{obsid}/2mass.csv', \n",
    "             outfile=f'{obsid}/xfm.fits', wcsfile=fileevt2,\n",
    "             radius=2, residlim=1, verbose=1, clobber=True)\n",
    "        print(rt.wcs_match.get_runtime_details()['output'])\n",
    "    except OSError as e:\n",
    "        print(e)\n",
    "        "
   ]
  },
  {
   "cell_type": "code",
   "execution_count": 114,
   "metadata": {},
   "outputs": [
    {
     "name": "stdout",
     "output_type": "stream",
     "text": [
      "# wcs_match (CIAO 4.13): WARNING: Ref src x_err or ra_err cols not found.  Assuming x_err = 1.\n",
      "# wcs_match (CIAO 4.13): WARNING: Ref src y_err or dec_err cols not found.  Assuming y_err = 1.\n",
      " input (dup) src file : 18933/src.fits\n",
      " input ref src file   : 18933/2mass.csv\n",
      " input wcsfile        : 18933/repro/hrcf18933_repro_evt2.fits\n",
      " debug level          : 1\n",
      "\n",
      "3 common sources found between: \n",
      "18933/2mass.csv\n",
      "18933/src.fits\n",
      "After deleting poor matches, 3 sources remain\n",
      "\n",
      "Source Residuals\n",
      "----------------\n",
      " Src  Ref#  Dup#    Ref RA      Ref Dec.    Prior Resid           Transfm Resid         Resid  Incl\n",
      " Indx               (deg.)      (deg.)      RSS (x,y)             RSS (x,y)             Ratio\n",
      "                                            (arcsec)              (arcsec)\n",
      "   0  137     5     45.69832   -23.74512    1.77 ( 1.07, 1.41)    0.00 ( 0.00, 0.00)    0.00    Y\n",
      "   1  192     8     45.72177   -23.65152    1.30 ( 1.13,-0.65)    0.00 (-0.00,-0.00)    0.00    Y\n",
      "   2  222     3     45.55491   -23.58884    0.61 ( 0.61, 0.02)    0.00 ( 0.00,-0.00)    0.00    Y\n",
      "\n",
      "Source Residuals, before/after transform (arcsec), and percentage improvement:\n",
      "\n",
      "   Average Residuals:         1.228885   0.000000  100.00%\n",
      "   Maximum Residuals:         1.770751   0.000000  100.00%\n",
      "   RMS Residuals:             0.931919   0.000000  100.00%\n",
      "\n",
      "Source Residual Ratios, before/after transform, and percentage improvement:\n",
      "\n",
      "   Average Residual Ratios:   4.057293   0.000000  100.00%\n",
      "   Maximum Residual Ratios:   4.894490   0.000000  100.00%\n",
      "   RMS Ratios:                2.912766   0.000000  100.00%\n",
      "\n",
      "\n"
     ]
    }
   ],
   "source": [
    "print(rt.wcs_match.get_runtime_details()['output'])"
   ]
  },
  {
   "cell_type": "markdown",
   "metadata": {},
   "source": [
    "### Obslog table\n",
    "\n",
    "Next, we parse the header information in the evt2 files in each obsid to construct a table for the publication. Although the initial table is already pretty good, we do some extra steps to fix e.g. the capitalization of the column names, to convert target ASCII names into proper LaTeX etc. to make the table generally more pleasing. In this case, writing this code takes probably about as long as writing this table by hand, but note that we can re-use the code in this cell for all future Chandra projects since the format of the header keywords is fixed."
   ]
  },
  {
   "cell_type": "code",
   "execution_count": 3,
   "metadata": {},
   "outputs": [
    {
     "data": {
      "text/html": [
       "<i>Table length=4</i>\n",
       "<table id=\"table140306217792528\" class=\"table-striped table-bordered table-condensed\">\n",
       "<thead><tr><th>target</th><th>DATE-OBS</th><th>OBSID</th><th>RA (pointing)</th><th>Dec (pointing)</th><th>exp. time</th><th>name</th><th>obs. date</th></tr></thead>\n",
       "<thead><tr><th></th><th></th><th></th><th>deg</th><th>deg</th><th>ks</th><th></th><th></th></tr></thead>\n",
       "<thead><tr><th>str12</th><th>str19</th><th>str5</th><th>float64</th><th>float64</th><th>float64</th><th>str9</th><th>str10</th></tr></thead>\n",
       "<tr><td>$\\iota$ Cen</td><td>2017-03-31T13:22:55</td><td>18930</td><td>200.1525</td><td>-36.7119</td><td>9.7</td><td>iota Cen</td><td>2017-03-31</td></tr>\n",
       "<tr><td>$\\beta$ Leo</td><td>2017-04-05T16:12:29</td><td>18931</td><td>177.2635</td><td>14.5719</td><td>10.1</td><td>beta Leo</td><td>2017-04-05</td></tr>\n",
       "<tr><td>$\\delta$ Leo</td><td>2017-02-05T05:48:56</td><td>18932</td><td>168.5285</td><td>20.5240</td><td>10.1</td><td>delta Leo</td><td>2017-02-05</td></tr>\n",
       "<tr><td>$\\tau^3$ Eri</td><td>2017-06-09T12:15:45</td><td>18933</td><td>45.5957</td><td>-23.6223</td><td>19.9</td><td>tau03 Eri</td><td>2017-06-09</td></tr>\n",
       "</table>"
      ],
      "text/plain": [
       "<Table length=4>\n",
       "   target          DATE-OBS      OBSID ... exp. time    name   obs. date \n",
       "                                       ...     ks                        \n",
       "   str12            str19         str5 ...  float64     str9     str10   \n",
       "------------ ------------------- ----- ... --------- --------- ----------\n",
       " $\\iota$ Cen 2017-03-31T13:22:55 18930 ...       9.7  iota Cen 2017-03-31\n",
       " $\\beta$ Leo 2017-04-05T16:12:29 18931 ...      10.1  beta Leo 2017-04-05\n",
       "$\\delta$ Leo 2017-02-05T05:48:56 18932 ...      10.1 delta Leo 2017-02-05\n",
       "$\\tau^3$ Eri 2017-06-09T12:15:45 18933 ...      19.9 tau03 Eri 2017-06-09"
      ]
     },
     "execution_count": 3,
     "metadata": {},
     "output_type": "execute_result"
    }
   ],
   "source": [
    "obslog = []\n",
    "for obsid in obsids:\n",
    "    fileevt2 = glob(f'{obsid}/repro/*evt2*')[0]\n",
    "    header = fits.getheader(fileevt2, ext=('EVENTS', 1))\n",
    "    obslog.append({k: header[k] for k in ['OBJECT', 'DATE-OBS', 'OBS_ID', 'RA_PNT', 'DEC_PNT', 'EXPOSURE']})\n",
    "    \n",
    "obslog = Table(rows=obslog)\n",
    "\n",
    "obslog['EXPOSURE'] /= 1000\n",
    "obslog['EXPOSURE'].unit = u.ks\n",
    "obslog['EXPOSURE'].format = '{:5.1f}'\n",
    "obslog['RA_PNT'].unit = u.deg\n",
    "obslog['RA_PNT'].format = '{:8.4f}'\n",
    "obslog.rename_column('RA_PNT', 'RA (pointing)')\n",
    "obslog['DEC_PNT'].unit = u.deg\n",
    "obslog['DEC_PNT'].format = '{:8.4f}'\n",
    "obslog.rename_column('DEC_PNT', 'Dec (pointing)')\n",
    "obslog.rename_column('OBS_ID', 'OBSID')\n",
    "# copy header keyword\n",
    "obslog['name'] = obslog['OBJECT']\n",
    "# Give names in proper LaTeX\n",
    "obslog['OBJECT'] = [r'$\\iota$ Cen', r'$\\beta$ Leo', r'$\\delta$ Leo', r'$\\tau^3$ Eri']\n",
    "# Only display date, not time\n",
    "obslog['obs. date'] = [o.split('T')[0] for o in obslog['DATE-OBS']]\n",
    "obslog.rename_column('EXPOSURE', 'exp. time')\n",
    "obslog.rename_column('OBJECT', 'target')\n",
    "obslog"
   ]
  },
  {
   "cell_type": "markdown",
   "metadata": {},
   "source": [
    "We print out the final table in LaTeX form and copy and paste that into our article."
   ]
  },
  {
   "cell_type": "code",
   "execution_count": 4,
   "metadata": {},
   "outputs": [
    {
     "name": "stdout",
     "output_type": "stream",
     "text": [
      "\\begin{table}\n",
      "\\caption{Chandra observations with pointing information \\label{tab:obslog}}\n",
      "\\begin{tabular}{ccccc}\n",
      "\\hline \\hline\n",
      "target & obs. date & OBSID & RA (pointing) & Dec (pointing) \\\\\n",
      " &  &  & $\\mathrm{{}^{\\circ}}$ & $\\mathrm{{}^{\\circ}}$ \\\\\n",
      "\\hline\n",
      "$\\iota$ Cen & 2017-03-31 & 18930 & 200.1525 & -36.7119 \\\\\n",
      "$\\beta$ Leo & 2017-04-05 & 18931 & 177.2635 & 14.5719 \\\\\n",
      "$\\delta$ Leo & 2017-02-05 & 18932 & 168.5285 & 20.5240 \\\\\n",
      "$\\tau^3$ Eri & 2017-06-09 & 18933 & 45.5957 & -23.6223 \\\\\n",
      "\\hline\n",
      "\\end{tabular}\n",
      "\\end{table}\n"
     ]
    }
   ],
   "source": [
    "obslog['target', 'obs. date', 'OBSID', 'RA (pointing)',  'Dec (pointing)'].write(sys.stdout,\n",
    "            format='ascii.latex', latexdict=ascii.latexdicts['AA'],\n",
    "            caption=r'Chandra observations with pointing information \\label{tab:obslog}')"
   ]
  },
  {
   "cell_type": "code",
   "execution_count": 5,
   "metadata": {},
   "outputs": [],
   "source": [
    "customSimbad = Simbad()\n",
    "customSimbad.add_votable_fields('distance', 'pm', 'pm_bibcode', 'sptype')\n",
    "for f in 'UBVR':\n",
    "    customSimbad.add_votable_fields(f'flux({f})', f'flux_bibcode({f})')"
   ]
  },
  {
   "cell_type": "markdown",
   "metadata": {},
   "source": [
    "search simbad over all 4 objects. Calculate coords with proper motion, then dmcopy to make images centered on them, draw position, add to paper., calcualte upper limits. Make table with this similar to proposal (can be done outside of notebook?)\n",
    "\n",
    "I don't think re-processing all the other data is needed, can quate literature values. Then copy instro fro proposal. Maybe make a few more plots with matplotlib and astropy for e.g. decay. "
   ]
  },
  {
   "cell_type": "code",
   "execution_count": 6,
   "metadata": {},
   "outputs": [
    {
     "name": "stderr",
     "output_type": "stream",
     "text": [
      "/Users/hamogu/anaconda3/envs/ciao/lib/python3.7/site-packages/astroquery/simbad/core.py:138: UserWarning: Warning: The script line number 3 raised an error (recorded in the `errors` attribute of the result table): 'name' this identifier has an incorrect format for catalog: \tname : Name of objects  \n",
      "  (error.line, error.msg))\n"
     ]
    }
   ],
   "source": [
    "simbad_obj = customSimbad.query_object(obslog['name'])"
   ]
  },
  {
   "cell_type": "code",
   "execution_count": 7,
   "metadata": {},
   "outputs": [],
   "source": [
    "targets = hstack([obslog, simbad_obj])"
   ]
  },
  {
   "cell_type": "code",
   "execution_count": 87,
   "metadata": {},
   "outputs": [],
   "source": [
    "targets['coord'] = SkyCoord(ra=targets['RA'], dec=targets['DEC'], unit=(u.hourangle, u.deg),\n",
    "                            obstime=\"J2000\",\n",
    "                            distance=Distance(targets['Distance_distance'] * u.pc),\n",
    "                            pm_dec=targets['PMDEC'], pm_ra_cosdec=targets['PMRA'])\n",
    "targets['coord_at_obs'] = targets['coord'].apply_space_motion(Time(targets['DATE-OBS']))\n",
    "targets['coord_used'] = targets['coord'].apply_space_motion(Time(targets['DATE-OBS']))"
   ]
  },
  {
   "cell_type": "code",
   "execution_count": null,
   "metadata": {},
   "outputs": [],
   "source": [
    "targets['coord_used'].data.lon[3] = targets['coord_used'][3].data.lon - 0.7 * u.arcsec\n",
    "targets['coord_used'].cache.clear()  # Needed after directly manipulating the data object"
   ]
  },
  {
   "cell_type": "code",
   "execution_count": 155,
   "metadata": {},
   "outputs": [
    {
     "data": {
      "text/html": [
       "<i>Table length=4</i>\n",
       "<table id=\"table140306217808336\" class=\"table-striped table-bordered table-condensed\">\n",
       "<thead><tr><th>target</th><th>DATE-OBS</th><th>OBSID</th><th>RA (pointing)</th><th>Dec (pointing)</th><th>exp. time</th><th>name</th><th>obs. date</th><th>MAIN_ID</th><th>RA</th><th>DEC</th><th>RA_PREC</th><th>DEC_PREC</th><th>COO_ERR_MAJA</th><th>COO_ERR_MINA</th><th>COO_ERR_ANGLE</th><th>COO_QUAL</th><th>COO_WAVELENGTH</th><th>COO_BIBCODE</th><th>Distance_distance</th><th>Distance_Q</th><th>Distance_unit</th><th>Distance_merr</th><th>Distance_perr</th><th>Distance_method</th><th>Distance_bibcode</th><th>PMRA</th><th>PMDEC</th><th>PM_ERR_MAJA</th><th>PM_ERR_MINA</th><th>PM_ERR_ANGLE</th><th>PM_BIBCODE</th><th>SP_TYPE</th><th>SP_QUAL</th><th>SP_BIBCODE</th><th>FLUX_U</th><th>FLUX_BIBCODE_U</th><th>FLUX_B</th><th>FLUX_BIBCODE_B</th><th>FLUX_V</th><th>FLUX_BIBCODE_V</th><th>FLUX_R</th><th>FLUX_BIBCODE_R</th><th>coord</th><th>coord_at_obs</th><th>coord_used</th></tr></thead>\n",
       "<thead><tr><th></th><th></th><th></th><th>deg</th><th>deg</th><th>ks</th><th></th><th></th><th></th><th>&quot;h:m:s&quot;</th><th>&quot;d:m:s&quot;</th><th></th><th></th><th>mas</th><th>mas</th><th>deg</th><th></th><th></th><th></th><th></th><th></th><th></th><th></th><th></th><th></th><th></th><th>mas / yr</th><th>mas / yr</th><th>mas / yr</th><th>mas / yr</th><th>deg</th><th></th><th></th><th></th><th></th><th>mag</th><th></th><th>mag</th><th></th><th>mag</th><th></th><th>mag</th><th></th><th>deg,deg,pc</th><th>deg,deg,pc</th><th>deg,deg,pc</th></tr></thead>\n",
       "<thead><tr><th>str12</th><th>str19</th><th>str5</th><th>float64</th><th>float64</th><th>float64</th><th>str9</th><th>str10</th><th>object</th><th>str13</th><th>str13</th><th>int16</th><th>int16</th><th>float32</th><th>float32</th><th>int16</th><th>str1</th><th>str1</th><th>object</th><th>float64</th><th>str1</th><th>str4</th><th>float64</th><th>float64</th><th>str8</th><th>str19</th><th>float64</th><th>float64</th><th>float32</th><th>float32</th><th>int16</th><th>object</th><th>object</th><th>str1</th><th>object</th><th>float32</th><th>object</th><th>float32</th><th>object</th><th>float32</th><th>object</th><th>float32</th><th>object</th><th>object</th><th>object</th><th>object</th></tr></thead>\n",
       "<tr><td>$\\iota$ Cen</td><td>2017-03-31T13:22:55</td><td>18930</td><td>200.1525</td><td>-36.7119</td><td>9.7</td><td>iota Cen</td><td>2017-03-31</td><td>* iot Cen</td><td>13 20 35.8128</td><td>-36 42 44.296</td><td>14</td><td>14</td><td>0.867</td><td>0.915</td><td>90</td><td>A</td><td>O</td><td>2018yCat.1345....0G</td><td>17.8390</td><td></td><td>pc</td><td>-0.3547</td><td>0.3547</td><td>paral</td><td>2018yCat.1345....0G</td><td>-339.615</td><td>-82.181</td><td>1.588</td><td>1.593</td><td>90</td><td>2018yCat.1345....0G</td><td>kA1.5hA3mA3Va</td><td>C</td><td>2006AJ....132..161G</td><td>2.77</td><td>2002yCat.2237....0D</td><td>2.76</td><td>2002yCat.2237....0D</td><td>2.73</td><td>2002yCat.2237....0D</td><td>2.68</td><td>2002yCat.2237....0D</td><td>200.14921999999999,-36.71230444444445,17.839</td><td>200.1471905017947,-36.7126981171705,17.838999981929057</td><td>200.1471905017947,-36.7126981171705,17.838999981929057</td></tr>\n",
       "<tr><td>$\\beta$ Leo</td><td>2017-04-05T16:12:29</td><td>18931</td><td>177.2635</td><td>14.5719</td><td>10.1</td><td>beta Leo</td><td>2017-04-05</td><td>* bet Leo</td><td>11 49 03.5783</td><td>+14 34 19.409</td><td>9</td><td>9</td><td>7.630</td><td>3.860</td><td>90</td><td>A</td><td>O</td><td>2007A&amp;A...474..653V</td><td>11.0910</td><td></td><td>pc</td><td>-0.1090</td><td>0.1090</td><td>ST-L</td><td>2009ApJ...694.1085V</td><td>-497.680</td><td>-114.670</td><td>0.870</td><td>0.440</td><td>0</td><td>2007A&amp;A...474..653V</td><td>A3Va</td><td>C</td><td>2009ApJ...694.1085V</td><td>2.3</td><td>2002yCat.2237....0D</td><td>2.22</td><td>2002yCat.2237....0D</td><td>2.13</td><td>2009ApJ...694.1085V</td><td>2.08</td><td>2002yCat.2237....0D</td><td>177.26490958333332,14.572058055555555,11.091</td><td>177.26244419834208,14.571508267084944,11.090999988901109</td><td>177.26244419834208,14.571508267084944,11.090999988901109</td></tr>\n",
       "<tr><td>$\\delta$ Leo</td><td>2017-02-05T05:48:56</td><td>18932</td><td>168.5285</td><td>20.5240</td><td>10.1</td><td>delta Leo</td><td>2017-02-05</td><td>* del Leo</td><td>11 14 06.5014</td><td>+20 31 25.385</td><td>9</td><td>9</td><td>2.640</td><td>1.840</td><td>90</td><td>A</td><td>O</td><td>2007A&amp;A...474..653V</td><td>17.6930</td><td></td><td>pc</td><td>-0.2600</td><td>0.2600</td><td>ST-L</td><td>2009ApJ...694.1085V</td><td>143.420</td><td>-129.880</td><td>0.300</td><td>0.210</td><td>0</td><td>2007A&amp;A...474..653V</td><td>A5IV(n)</td><td>C</td><td>2003AJ....126.2048G</td><td>2.79</td><td>2002yCat.2237....0D</td><td>2.68</td><td>2002yCat.2237....0D</td><td>2.53</td><td>2009ApJ...694.1085V</td><td>2.44</td><td>2002yCat.2237....0D</td><td>168.52708916666663,20.523718055555555,17.693</td><td>168.52781645974414,20.523101225964965,17.692999994595084</td><td>168.52781645974414,20.523101225964965,17.692999994595084</td></tr>\n",
       "<tr><td>$\\tau^3$ Eri</td><td>2017-06-09T12:15:45</td><td>18933</td><td>45.5957</td><td>-23.6223</td><td>19.9</td><td>tau03 Eri</td><td>2017-06-09</td><td>* tau03 Eri</td><td>03 02 23.4993</td><td>-23 37 28.093</td><td>11</td><td>11</td><td>0.130</td><td>0.130</td><td>90</td><td>A</td><td>O</td><td>2007A&amp;A...474..653V</td><td>25.9169</td><td></td><td>pc</td><td>-0.2595</td><td>0.2595</td><td>paral</td><td>2018yCat.1345....0G</td><td>-147.250</td><td>-55.280</td><td>0.170</td><td>0.170</td><td>90</td><td>2007A&amp;A...474..653V</td><td>A3IV-V</td><td>C</td><td>2006AJ....132..161G</td><td>4.33</td><td>2002yCat.2237....0D</td><td>4.25</td><td>2002yCat.2237....0D</td><td>4.09</td><td>2002yCat.2237....0D</td><td>3.96</td><td>2002yCat.2237....0D</td><td>45.59791375,-23.624470277777778,25.9169</td><td>45.597135266916126,-23.624738036858812,25.916899991184867</td><td>45.59694082247168,-23.624738036858812,25.916899991184867</td></tr>\n",
       "</table>"
      ],
      "text/plain": [
       "<Table length=4>\n",
       "   target    ...                        coord_used                       \n",
       "             ...                        deg,deg,pc                       \n",
       "   str12     ...                          object                         \n",
       "------------ ... --------------------------------------------------------\n",
       " $\\iota$ Cen ...   200.1471905017947,-36.7126981171705,17.838999981929057\n",
       " $\\beta$ Leo ... 177.26244419834208,14.571508267084944,11.090999988901109\n",
       "$\\delta$ Leo ... 168.52781645974414,20.523101225964965,17.692999994595084\n",
       "$\\tau^3$ Eri ... 45.59694082247168,-23.624738036858812,25.916899991184867"
      ]
     },
     "execution_count": 155,
     "metadata": {},
     "output_type": "execute_result"
    }
   ],
   "source": [
    "# Keep a local copy o this large table with all coordinates etc, so we don't have to download it again\n",
    "# later.\n",
    "# ESCV is a astropy format that will save metadata including the formatting of time and coordinates.\n",
    "targets.write('targettab.ecsv', format='ascii.ecsv', overwrite=True)\n",
    "# And then displat it in the notebook\n",
    "targets"
   ]
  },
  {
   "cell_type": "markdown",
   "metadata": {},
   "source": [
    "In the definition of the coordiante box, the `d` behind the numbers for RA and Dec makes CIAO interpret the numbers as degrees, not physical pixels. The `'` for the width and high of the box means \"arcmin\"."
   ]
  },
  {
   "cell_type": "code",
   "execution_count": 156,
   "metadata": {},
   "outputs": [],
   "source": [
    "for target in targets:\n",
    "    obsid = target['OBSID']\n",
    "    coord = target['coord_at_obs']\n",
    "    fileevt2 = glob(f'{obsid}/repro/*evt2*')[0]    \n",
    "    rt.dmcopy(infile=f\"{fileevt2}[(x,y)=box({coord.ra.deg}d,{coord.dec.deg}d,.15',.15')][bin x=::3,y=::3]\",\n",
    "              outfile=f'{obsid}_imcenter.fits', option='image', clobber=True)"
   ]
  },
  {
   "cell_type": "code",
   "execution_count": 130,
   "metadata": {},
   "outputs": [
    {
     "name": "stderr",
     "output_type": "stream",
     "text": [
      "WARNING: FITSFixedWarning: 'datfix' made the change 'Set DATEREF to '1998-01-01' from MJDREF.\n",
      "Set MJD-END to 57843.699745 from DATE-END'. [astropy.wcs.wcs]\n",
      "WARNING: FITSFixedWarning: 'datfix' made the change 'Set DATEREF to '1998-01-01' from MJDREF.\n",
      "Set MJD-END to 57848.810069 from DATE-END'. [astropy.wcs.wcs]\n",
      "WARNING: FITSFixedWarning: 'datfix' made the change 'Set DATEREF to '1998-01-01' from MJDREF.\n",
      "Set MJD-END to 57789.376111 from DATE-END'. [astropy.wcs.wcs]\n",
      "WARNING: FITSFixedWarning: 'datfix' made the change 'Set DATEREF to '1998-01-01' from MJDREF.\n",
      "Set MJD-END to 57913.766586 from DATE-END'. [astropy.wcs.wcs]\n"
     ]
    },
    {
     "data": {
      "image/png": "[encoded data removed]",
      "text/plain": [
       "<Figure size 576x504 with 8 Axes>"
      ]
     },
     "metadata": {
      "needs_background": "light"
     },
     "output_type": "display_data"
    }
   ],
   "source": [
    "fig = plt.figure(figsize=(8, 7))\n",
    "for i, target in enumerate(targets):\n",
    "    obsid = target['OBSID']\n",
    "    coord = target['coord_at_obs']\n",
    "    hdu = fits.open(f'{obsid}_imcenter.fits')[0]\n",
    "    wcs = WCS(hdu.header)\n",
    "    ax = fig.add_subplot(2, 2, i+1, projection=wcs)\n",
    "    im = ax.imshow(hdu.data, origin='lower', cmap=plt.get_cmap('binary'))\n",
    "    cbar = plt.colorbar(im, ax=ax)\n",
    "    cbar.set_label('counts / pixel')\n",
    "    # Since counts are integer values, we want to label only the integers\n",
    "    cbar.ax.yaxis.set_major_locator(MaxNLocator(integer=True))\n",
    "    ax.grid(color='y', ls='solid')\n",
    "    r = SphericalCircle((coord.ra, coord.dec), 1 * u.arcsec,\n",
    "                         edgecolor='b', facecolor='none',\n",
    "                         transform=ax.get_transform('fk5'))\n",
    "    ax.add_patch(r)\n",
    "    ax.coords['ra'].set_axislabel('RA')\n",
    "    ax.coords['ra'].set_ticklabel(exclude_overlapping=True)\n",
    "    # minpad moved the \"Dec\". A negative value moves id in a little bit.\n",
    "    ax.coords['dec'].set_axislabel('Dec', minpad=-1)\n",
    "    ax.set_title(target['target'])\n",
    "    if target['OBSID'] == '18933':\n",
    "        # We see that the coordinates are slightly off in wa way that's consistent with another\n",
    "        # source in the field and with the Chandra coordinate uncertainty. So, we draw a new \n",
    "        # circle around the source that we actually see.\n",
    "        coord = target['coord_used']\n",
    "        r = SphericalCircle((coord.ra, coord.dec), 1 * u.arcsec,\n",
    "                             edgecolor='b', facecolor='none', linestyle=':',\n",
    "                             transform=ax.get_transform('fk5'), linewidth=3)\n",
    "        ax.add_patch(r)\n",
    "\n",
    "fig.subplots_adjust(wspace=.5)\n",
    "fig.savefig('chandra.pdf', bbox_inches='tight')"
   ]
  },
  {
   "cell_type": "markdown",
   "metadata": {},
   "source": [
    "Now, we need to measure background rates. So, we need a larger, source-free region we can use. For this purpose, we just take a big area centered on our source and subtract all locations where we found sources  with `wavdetect` above."
   ]
  },
  {
   "cell_type": "code",
   "execution_count": 159,
   "metadata": {},
   "outputs": [
    {
     "name": "stdout",
     "output_type": "stream",
     "text": [
      "Working on  18930\n",
      "Working on  18931\n",
      "Working on  18932\n",
      "Working on  18933\n"
     ]
    }
   ],
   "source": [
    "for target in targets:\n",
    "    obsid = target['OBSID']\n",
    "    print('Extracting src and bkg for obsid: ', obsid)\n",
    "    coord = target['coord_used']\n",
    "    fileevt2 = glob(f'{obsid}/repro/*evt2*')[0]    \n",
    "    # Background region: Annulus around the source, removing any detected point sources\n",
    "    bkgfilter = f\"annulus({coord.ra.deg}d,{coord.dec.deg}d,.1',2.5')\"\n",
    "    with open(f'{obsid}/src.reg') as f:\n",
    "        for line in f:\n",
    "            bkgfilter += f'-{line}'.replace('\\n', '')\n",
    "    rt.dmextract.punlearn()\n",
    "    rt.dmextract(infile=f\"{fileevt2}[bin sky=circle({coord.ra.deg}d,{coord.dec.deg}d,1.5'')]\",\n",
    "                 bkg=f'{fileevt2}[bin sky={bkgfilter}]',\n",
    "                 outfile=f'{obsid}_dmextract.fits', clobber=True)"
   ]
  },
  {
   "cell_type": "markdown",
   "metadata": {},
   "source": [
    "Now, we want count numbers, rates, and confidence limits. CIAO offers very advanced and flexible tools for that ([srcfulx](https://cxc.cfa.harvard.edu/ciao/ahelp/srcflux.html) and [aprates](https://cxc.cfa.harvard.edu/ciao/ahelp/aprates.html)). However, the fact that we are using the HRC, which has essentially no intrisic energy resolution, means that we do not benefit from the ability of the [srcfulx](https://cxc.cfa.harvard.edu/ciao/ahelp/srcflux.html) script to take into account specific spectral models. We can also easily make almost \"perfect\" source and background apertures, where \"perfect\" means that the entire source PSF is contained inside the source aperture and no part of the source is contained in the background aperture. Our sources are on-axis, where Chandra's PSF is very narrow, and they are weak (in fact most of them are undetected), so that we can, in good conscious, ignore the wings of the PSF.\n",
    "\n",
    "For the background, we use an annulus with an inner radius of 6 arcsec, safely outside the PSF, and for the source aperture we use a circle with a radius of 1.5 arcsec, which, for soft sources like in this case, catches >90% of the flux. We can correct for this fact in the end, but there is considerable uncertainty on the exact factor, so we do not want to use it as part of the analysis. [aprates](https://cxc.cfa.harvard.edu/ciao/ahelp/aprates.html) can deal with source counts in the background, and considers the uncertainty in the background (see [Primini & Kashyap (2014)](https://ui.adsabs.harvard.edu/abs/2014ApJ...796...24P/abstract)), but at the cost of long run-times if the background region is large. Since our background seem homogenoues, we take the simpler approach by [Kraft, Burrows, Nousek (1991)](https://ui.adsabs.harvard.edu/abs/1991ApJ...374..344K/abstract) which assumes that the background is well known (which we achieve by measurung it from a very large area) as implemented in astropy."
   ]
  },
  {
   "cell_type": "code",
   "execution_count": 156,
   "metadata": {},
   "outputs": [
    {
     "name": "stderr",
     "output_type": "stream",
     "text": [
      "WARNING: hdu= was not specified but multiple tables are present, reading in first available table (hdu=1) [astropy.io.fits.connect]\n",
      "WARNING: VerifyWarning: Invalid keyword for column 21: Coordinate/axis type option (TCTYPn) must be a string of atmost 8 characters (got 'BG_CEL_BRI'). The invalid keyword will be ignored for the purpose of formatting this column. [astropy.io.fits.column]\n",
      "WARNING: VerifyWarning: Invalid keyword for column 22: Coordinate/axis type option (TCTYPn) must be a string of atmost 8 characters (got 'BG_CEL_BRI_ERR'). The invalid keyword will be ignored for the purpose of formatting this column. [astropy.io.fits.column]\n",
      "WARNING: VerifyWarning: Invalid keyword for column 28: Coordinate/axis type option (TCTYPn) must be a string of atmost 8 characters (got 'CEL_BRI_ERR'). The invalid keyword will be ignored for the purpose of formatting this column. [astropy.io.fits.column]\n"
     ]
    },
    {
     "data": {
      "text/html": [
       "<i>Table length=1</i>\n",
       "<table id=\"table140305857451088\" class=\"table-striped table-bordered table-condensed\">\n",
       "<thead><tr><th>COUNTS</th><th>AREA</th><th>BG_COUNTS</th><th>BG_AREA</th></tr></thead>\n",
       "<thead><tr><th>ct</th><th>pix2</th><th>ct</th><th>pix2</th></tr></thead>\n",
       "<thead><tr><th>float64</th><th>float64</th><th>float64</th><th>float64</th></tr></thead>\n",
       "<tr><td>33.0</td><td>180.85022448540298</td><td>47471.0</td><td>4061002.0625</td></tr>\n",
       "</table>"
      ],
      "text/plain": [
       "<Table length=1>\n",
       " COUNTS        AREA        BG_COUNTS   BG_AREA   \n",
       "   ct          pix2            ct        pix2    \n",
       "float64      float64        float64    float64   \n",
       "------- ------------------ --------- ------------\n",
       "   33.0 180.85022448540298   47471.0 4061002.0625"
      ]
     },
     "execution_count": 156,
     "metadata": {},
     "output_type": "execute_result"
    }
   ],
   "source": [
    "Table.read(f'18933_dmextract.fits')['COUNTS', 'AREA', 'BG_COUNTS', 'BG_AREA']"
   ]
  },
  {
   "cell_type": "code",
   "execution_count": 161,
   "metadata": {},
   "outputs": [
    {
     "name": "stderr",
     "output_type": "stream",
     "text": [
      "WARNING: hdu= was not specified but multiple tables are present, reading in first available table (hdu=1) [astropy.io.fits.connect]\n",
      "WARNING: VerifyWarning: Invalid keyword for column 21: Coordinate/axis type option (TCTYPn) must be a string of atmost 8 characters (got 'BG_CEL_BRI'). The invalid keyword will be ignored for the purpose of formatting this column. [astropy.io.fits.column]\n",
      "WARNING: VerifyWarning: Invalid keyword for column 22: Coordinate/axis type option (TCTYPn) must be a string of atmost 8 characters (got 'BG_CEL_BRI_ERR'). The invalid keyword will be ignored for the purpose of formatting this column. [astropy.io.fits.column]\n",
      "WARNING: VerifyWarning: Invalid keyword for column 28: Coordinate/axis type option (TCTYPn) must be a string of atmost 8 characters (got 'CEL_BRI_ERR'). The invalid keyword will be ignored for the purpose of formatting this column. [astropy.io.fits.column]\n"
     ]
    }
   ],
   "source": [
    "targets['src'] = 0\n",
    "targets['src'].unit = u.count\n",
    "targets['bkg'] = 0.\n",
    "targets['bkg'].unit = u.count\n",
    "\n",
    "for target in targets:\n",
    "    obsid = target['OBSID']\n",
    "    tab = Table.read(f'{obsid}_dmextract.fits')\n",
    "    target['src'] = int(tab['COUNTS'][0])\n",
    "    target['bkg'] = tab['BG_COUNTS'][0]/tab['BG_AREA'][0] * tab['AREA'][0]"
   ]
  },
  {
   "cell_type": "code",
   "execution_count": 162,
   "metadata": {},
   "outputs": [
    {
     "data": {
      "text/html": [
       "<i>Table length=4</i>\n",
       "<table id=\"table140306217808336\" class=\"table-striped table-bordered table-condensed\">\n",
       "<thead><tr><th>target</th><th>DATE-OBS</th><th>OBSID</th><th>RA (pointing)</th><th>Dec (pointing)</th><th>exp. time</th><th>name</th><th>obs. date</th><th>MAIN_ID</th><th>RA</th><th>DEC</th><th>RA_PREC</th><th>DEC_PREC</th><th>COO_ERR_MAJA</th><th>COO_ERR_MINA</th><th>COO_ERR_ANGLE</th><th>COO_QUAL</th><th>COO_WAVELENGTH</th><th>COO_BIBCODE</th><th>Distance_distance</th><th>Distance_Q</th><th>Distance_unit</th><th>Distance_merr</th><th>Distance_perr</th><th>Distance_method</th><th>Distance_bibcode</th><th>PMRA</th><th>PMDEC</th><th>PM_ERR_MAJA</th><th>PM_ERR_MINA</th><th>PM_ERR_ANGLE</th><th>PM_BIBCODE</th><th>SP_TYPE</th><th>SP_QUAL</th><th>SP_BIBCODE</th><th>FLUX_U</th><th>FLUX_BIBCODE_U</th><th>FLUX_B</th><th>FLUX_BIBCODE_B</th><th>FLUX_V</th><th>FLUX_BIBCODE_V</th><th>FLUX_R</th><th>FLUX_BIBCODE_R</th><th>coord</th><th>coord_at_obs</th><th>coord_used</th><th>src</th><th>bkg</th></tr></thead>\n",
       "<thead><tr><th></th><th></th><th></th><th>deg</th><th>deg</th><th>ks</th><th></th><th></th><th></th><th>&quot;h:m:s&quot;</th><th>&quot;d:m:s&quot;</th><th></th><th></th><th>mas</th><th>mas</th><th>deg</th><th></th><th></th><th></th><th></th><th></th><th></th><th></th><th></th><th></th><th></th><th>mas / yr</th><th>mas / yr</th><th>mas / yr</th><th>mas / yr</th><th>deg</th><th></th><th></th><th></th><th></th><th>mag</th><th></th><th>mag</th><th></th><th>mag</th><th></th><th>mag</th><th></th><th>deg,deg,pc</th><th>deg,deg,pc</th><th>deg,deg,pc</th><th>ct</th><th>ct</th></tr></thead>\n",
       "<thead><tr><th>str12</th><th>str19</th><th>str5</th><th>float64</th><th>float64</th><th>float64</th><th>str9</th><th>str10</th><th>object</th><th>str13</th><th>str13</th><th>int16</th><th>int16</th><th>float32</th><th>float32</th><th>int16</th><th>str1</th><th>str1</th><th>object</th><th>float64</th><th>str1</th><th>str4</th><th>float64</th><th>float64</th><th>str8</th><th>str19</th><th>float64</th><th>float64</th><th>float32</th><th>float32</th><th>int16</th><th>object</th><th>object</th><th>str1</th><th>object</th><th>float32</th><th>object</th><th>float32</th><th>object</th><th>float32</th><th>object</th><th>float32</th><th>object</th><th>object</th><th>object</th><th>object</th><th>int64</th><th>float64</th></tr></thead>\n",
       "<tr><td>$\\iota$ Cen</td><td>2017-03-31T13:22:55</td><td>18930</td><td>200.1525</td><td>-36.7119</td><td>9.7</td><td>iota Cen</td><td>2017-03-31</td><td>* iot Cen</td><td>13 20 35.8128</td><td>-36 42 44.296</td><td>14</td><td>14</td><td>0.867</td><td>0.915</td><td>90</td><td>A</td><td>O</td><td>2018yCat.1345....0G</td><td>17.8390</td><td></td><td>pc</td><td>-0.3547</td><td>0.3547</td><td>paral</td><td>2018yCat.1345....0G</td><td>-339.615</td><td>-82.181</td><td>1.588</td><td>1.593</td><td>90</td><td>2018yCat.1345....0G</td><td>kA1.5hA3mA3Va</td><td>C</td><td>2006AJ....132..161G</td><td>2.77</td><td>2002yCat.2237....0D</td><td>2.76</td><td>2002yCat.2237....0D</td><td>2.73</td><td>2002yCat.2237....0D</td><td>2.68</td><td>2002yCat.2237....0D</td><td>200.14921999999999,-36.71230444444445,17.839</td><td>200.1471905017947,-36.7126981171705,17.838999981929057</td><td>200.1471905017947,-36.7126981171705,17.838999981929057</td><td>1</td><td>2.4984975961538467</td></tr>\n",
       "<tr><td>$\\beta$ Leo</td><td>2017-04-05T16:12:29</td><td>18931</td><td>177.2635</td><td>14.5719</td><td>10.1</td><td>beta Leo</td><td>2017-04-05</td><td>* bet Leo</td><td>11 49 03.5783</td><td>+14 34 19.409</td><td>9</td><td>9</td><td>7.630</td><td>3.860</td><td>90</td><td>A</td><td>O</td><td>2007A&amp;A...474..653V</td><td>11.0910</td><td></td><td>pc</td><td>-0.1090</td><td>0.1090</td><td>ST-L</td><td>2009ApJ...694.1085V</td><td>-497.680</td><td>-114.670</td><td>0.870</td><td>0.440</td><td>0</td><td>2007A&amp;A...474..653V</td><td>A3Va</td><td>C</td><td>2009ApJ...694.1085V</td><td>2.3</td><td>2002yCat.2237....0D</td><td>2.22</td><td>2002yCat.2237....0D</td><td>2.13</td><td>2009ApJ...694.1085V</td><td>2.08</td><td>2002yCat.2237....0D</td><td>177.26490958333332,14.572058055555555,11.091</td><td>177.26244419834208,14.571508267084944,11.090999988901109</td><td>177.26244419834208,14.571508267084944,11.090999988901109</td><td>1</td><td>2.226873440198079</td></tr>\n",
       "<tr><td>$\\delta$ Leo</td><td>2017-02-05T05:48:56</td><td>18932</td><td>168.5285</td><td>20.5240</td><td>10.1</td><td>delta Leo</td><td>2017-02-05</td><td>* del Leo</td><td>11 14 06.5014</td><td>+20 31 25.385</td><td>9</td><td>9</td><td>2.640</td><td>1.840</td><td>90</td><td>A</td><td>O</td><td>2007A&amp;A...474..653V</td><td>17.6930</td><td></td><td>pc</td><td>-0.2600</td><td>0.2600</td><td>ST-L</td><td>2009ApJ...694.1085V</td><td>143.420</td><td>-129.880</td><td>0.300</td><td>0.210</td><td>0</td><td>2007A&amp;A...474..653V</td><td>A5IV(n)</td><td>C</td><td>2003AJ....126.2048G</td><td>2.79</td><td>2002yCat.2237....0D</td><td>2.68</td><td>2002yCat.2237....0D</td><td>2.53</td><td>2009ApJ...694.1085V</td><td>2.44</td><td>2002yCat.2237....0D</td><td>168.52708916666663,20.523718055555555,17.693</td><td>168.52781645974414,20.523101225964965,17.692999994595084</td><td>168.52781645974414,20.523101225964965,17.692999994595084</td><td>3</td><td>2.2467980201729154</td></tr>\n",
       "<tr><td>$\\tau^3$ Eri</td><td>2017-06-09T12:15:45</td><td>18933</td><td>45.5957</td><td>-23.6223</td><td>19.9</td><td>tau03 Eri</td><td>2017-06-09</td><td>* tau03 Eri</td><td>03 02 23.4993</td><td>-23 37 28.093</td><td>11</td><td>11</td><td>0.130</td><td>0.130</td><td>90</td><td>A</td><td>O</td><td>2007A&amp;A...474..653V</td><td>25.9169</td><td></td><td>pc</td><td>-0.2595</td><td>0.2595</td><td>paral</td><td>2018yCat.1345....0G</td><td>-147.250</td><td>-55.280</td><td>0.170</td><td>0.170</td><td>90</td><td>2007A&amp;A...474..653V</td><td>A3IV-V</td><td>C</td><td>2006AJ....132..161G</td><td>4.33</td><td>2002yCat.2237....0D</td><td>4.25</td><td>2002yCat.2237....0D</td><td>4.09</td><td>2002yCat.2237....0D</td><td>3.96</td><td>2002yCat.2237....0D</td><td>45.59791375,-23.624470277777778,25.9169</td><td>45.597135266916126,-23.624738036858812,25.916899991184867</td><td>45.59694082247168,-23.624738036858812,25.916899991184867</td><td>34</td><td>4.756601195331153</td></tr>\n",
       "</table>"
      ],
      "text/plain": [
       "<Table length=4>\n",
       "   target          DATE-OBS      OBSID ...  src         bkg        \n",
       "                                       ...   ct          ct        \n",
       "   str12            str19         str5 ... int64      float64      \n",
       "------------ ------------------- ----- ... ----- ------------------\n",
       " $\\iota$ Cen 2017-03-31T13:22:55 18930 ...     1 2.4984975961538467\n",
       " $\\beta$ Leo 2017-04-05T16:12:29 18931 ...     1  2.226873440198079\n",
       "$\\delta$ Leo 2017-02-05T05:48:56 18932 ...     3 2.2467980201729154\n",
       "$\\tau^3$ Eri 2017-06-09T12:15:45 18933 ...    34  4.756601195331153"
      ]
     },
     "execution_count": 162,
     "metadata": {},
     "output_type": "execute_result"
    }
   ],
   "source": [
    "targets"
   ]
  },
  {
   "cell_type": "code",
   "execution_count": 203,
   "metadata": {},
   "outputs": [],
   "source": [
    "targets['net. counts'] = poisson_conf_interval(targets['src'], background=targets['bkg'],\n",
    "                         confidence_level=0.90, interval='kraft-burrows-nousek').T\n",
    "# Units get lost when poisson_conf_interval calls scipy or mpmath underneath\n",
    "targets['net. counts'].unit = targets['src'].unit\n",
    "targets['net. counts'].format = '4.1f'\n",
    "targets['net. rate'] = targets['net. counts'] / targets['exp. time'][:, np.newaxis]\n",
    "# Units are not automativally handled for astropy Table, we would have to use a QTable\n",
    "targets['net. rate'].unit = targets['net. counts'].unit / targets['exp. time'].unit\n",
    "targets['net. rate'].format = '4.1f'"
   ]
  },
  {
   "cell_type": "code",
   "execution_count": 292,
   "metadata": {},
   "outputs": [],
   "source": [
    "conversion_factor = 1e-14 * u.erg / u.s / u.cm**2/ (u.count / u.ks)"
   ]
  },
  {
   "cell_type": "code",
   "execution_count": 299,
   "metadata": {},
   "outputs": [],
   "source": [
    "targets['net. flux'] = targets['net. rate'] * conversion_factor \n",
    "lxlim997 = 5.7 * u.ct /  targets['exp. time'] * conversion_factor * 4 * np.pi * (targets['Distance_distance'] * u.pc)**2\n",
    "lxlim997 = lxlim997.to(u.erg/u.s)\n",
    "targets['lxlim'] = lxlim997\n",
    "targets['upper lim $\\log(L_X/L_\\mathrm{bol})$'] = np.log10(lxlim997 / (np.array([20.1, 13.0, 22.1, 12.0]) * u.L_sun))"
   ]
  },
  {
   "cell_type": "code",
   "execution_count": 300,
   "metadata": {},
   "outputs": [
    {
     "name": "stderr",
     "output_type": "stream",
     "text": [
      "/Users/hamogu/anaconda3/envs/ciao/lib/python3.7/site-packages/ipykernel_launcher.py:4: RuntimeWarning: divide by zero encountered in log10\n",
      "  after removing the cwd from sys.path.\n"
     ]
    }
   ],
   "source": [
    "lx = targets['net. rate'] * conversion_factor * 4 * np.pi * (targets['Distance_distance'][:, np.newaxis] * u.pc)**2\n",
    "lx = lx.to(u.erg/u.s)\n",
    "targets['$L_X$'] = lx\n",
    "targets['$\\log(L_X)$'] = np.log10(lx.value)"
   ]
  },
  {
   "cell_type": "code",
   "execution_count": 302,
   "metadata": {},
   "outputs": [],
   "source": [
    "# From Simon et al (2002)\n",
    "targets['$L_\\mathrm{bol}$'] = [20.1, 13.0, 22.1, 12.0] * u.L_sun"
   ]
  },
  {
   "cell_type": "code",
   "execution_count": 303,
   "metadata": {},
   "outputs": [],
   "source": [
    "targets['$\\log(L_X/L_\\mathrm{bol})$'] = np.log10((lx / (np.array([20.1, 13.0, 22.1, 12.0]) * u.L_sun)[:, np.newaxis]).decompose())"
   ]
  },
  {
   "cell_type": "code",
   "execution_count": 304,
   "metadata": {},
   "outputs": [
    {
     "data": {
      "text/html": [
       "<i>Table length=4</i>\n",
       "<table id=\"table140306217808336\" class=\"table-striped table-bordered table-condensed\">\n",
       "<thead><tr><th>target</th><th>DATE-OBS</th><th>OBSID</th><th>RA (pointing)</th><th>Dec (pointing)</th><th>exp. time</th><th>name</th><th>obs. date</th><th>MAIN_ID</th><th>RA</th><th>DEC</th><th>RA_PREC</th><th>DEC_PREC</th><th>COO_ERR_MAJA</th><th>COO_ERR_MINA</th><th>COO_ERR_ANGLE</th><th>COO_QUAL</th><th>COO_WAVELENGTH</th><th>COO_BIBCODE</th><th>Distance_distance</th><th>Distance_Q</th><th>Distance_unit</th><th>Distance_merr</th><th>Distance_perr</th><th>Distance_method</th><th>Distance_bibcode</th><th>PMRA</th><th>PMDEC</th><th>PM_ERR_MAJA</th><th>PM_ERR_MINA</th><th>PM_ERR_ANGLE</th><th>PM_BIBCODE</th><th>SP_TYPE</th><th>SP_QUAL</th><th>SP_BIBCODE</th><th>FLUX_U</th><th>FLUX_BIBCODE_U</th><th>FLUX_B</th><th>FLUX_BIBCODE_B</th><th>FLUX_V</th><th>FLUX_BIBCODE_V</th><th>FLUX_R</th><th>FLUX_BIBCODE_R</th><th>coord</th><th>coord_at_obs</th><th>coord_used</th><th>src</th><th>bkg</th><th>net. counts [2]</th><th>net. rate [2]</th><th>$L_X$ [2]</th><th>net. flux [2]</th><th>$\\log(L_X)$ [2]</th><th>$L_\\mathrm{bol}</th><th>$L_\\mathrm{bol}$</th><th>$\\log(L_X/L_\\mathrm{bol})$ [2]</th><th>lxlim</th><th>upper lim $\\log(L_X/L_\\mathrm{bol})$</th></tr></thead>\n",
       "<thead><tr><th></th><th></th><th></th><th>deg</th><th>deg</th><th>ks</th><th></th><th></th><th></th><th>&quot;h:m:s&quot;</th><th>&quot;d:m:s&quot;</th><th></th><th></th><th>mas</th><th>mas</th><th>deg</th><th></th><th></th><th></th><th></th><th></th><th></th><th></th><th></th><th></th><th></th><th>mas / yr</th><th>mas / yr</th><th>mas / yr</th><th>mas / yr</th><th>deg</th><th></th><th></th><th></th><th></th><th>mag</th><th></th><th>mag</th><th></th><th>mag</th><th></th><th>mag</th><th></th><th>deg,deg,pc</th><th>deg,deg,pc</th><th>deg,deg,pc</th><th>ct</th><th>ct</th><th>ct</th><th>ct / ks</th><th>erg / s</th><th>erg / (cm2 s)</th><th></th><th>solLum</th><th>solLum</th><th></th><th>erg / s</th><th></th></tr></thead>\n",
       "<thead><tr><th>str12</th><th>str19</th><th>str5</th><th>float64</th><th>float64</th><th>float64</th><th>str9</th><th>str10</th><th>object</th><th>str13</th><th>str13</th><th>int16</th><th>int16</th><th>float32</th><th>float32</th><th>int16</th><th>str1</th><th>str1</th><th>object</th><th>float64</th><th>str1</th><th>str4</th><th>float64</th><th>float64</th><th>str8</th><th>str19</th><th>float64</th><th>float64</th><th>float32</th><th>float32</th><th>int16</th><th>object</th><th>object</th><th>str1</th><th>object</th><th>float32</th><th>object</th><th>float32</th><th>object</th><th>float32</th><th>object</th><th>float32</th><th>object</th><th>object</th><th>object</th><th>object</th><th>int64</th><th>float64</th><th>float64</th><th>float64</th><th>float64</th><th>float64</th><th>float64</th><th>float64</th><th>float64</th><th>float64</th><th>float64</th><th>float64</th></tr></thead>\n",
       "<tr><td>$\\iota$ Cen</td><td>2017-03-31T13:22:55</td><td>18930</td><td>200.1525</td><td>-36.7119</td><td>9.7</td><td>iota Cen</td><td>2017-03-31</td><td>* iot Cen</td><td>13 20 35.8128</td><td>-36 42 44.296</td><td>14</td><td>14</td><td>0.867</td><td>0.915</td><td>90</td><td>A</td><td>O</td><td>2018yCat.1345....0G</td><td>17.8390</td><td></td><td>pc</td><td>-0.3547</td><td>0.3547</td><td>paral</td><td>2018yCat.1345....0G</td><td>-339.615</td><td>-82.181</td><td>1.588</td><td>1.593</td><td>90</td><td>2018yCat.1345....0G</td><td>kA1.5hA3mA3Va</td><td>C</td><td>2006AJ....132..161G</td><td>2.77</td><td>2002yCat.2237....0D</td><td>2.76</td><td>2002yCat.2237....0D</td><td>2.73</td><td>2002yCat.2237....0D</td><td>2.68</td><td>2002yCat.2237....0D</td><td>200.14921999999999,-36.71230444444445,17.839</td><td>200.1471905017947,-36.7126981171705,17.838999981929057</td><td>200.1471905017947,-36.7126981171705,17.838999981929057</td><td>1</td><td>2.4984975961538467</td><td>0.0 ..  2.9</td><td>0.0 ..  0.3</td><td>0.0 .. 1.1448994320155717e+26</td><td>0.0 .. 3.006875001458325e-15</td><td>-inf .. 26.058767339917047</td><td>20.1</td><td>20.1</td><td>-inf .. -8.827400646608247</td><td>2.244527462558968e+26</td><td>-8.535043063014019</td></tr>\n",
       "<tr><td>$\\beta$ Leo</td><td>2017-04-05T16:12:29</td><td>18931</td><td>177.2635</td><td>14.5719</td><td>10.1</td><td>beta Leo</td><td>2017-04-05</td><td>* bet Leo</td><td>11 49 03.5783</td><td>+14 34 19.409</td><td>9</td><td>9</td><td>7.630</td><td>3.860</td><td>90</td><td>A</td><td>O</td><td>2007A&amp;A...474..653V</td><td>11.0910</td><td></td><td>pc</td><td>-0.1090</td><td>0.1090</td><td>ST-L</td><td>2009ApJ...694.1085V</td><td>-497.680</td><td>-114.670</td><td>0.870</td><td>0.440</td><td>0</td><td>2007A&amp;A...474..653V</td><td>A3Va</td><td>C</td><td>2009ApJ...694.1085V</td><td>2.3</td><td>2002yCat.2237....0D</td><td>2.22</td><td>2002yCat.2237....0D</td><td>2.13</td><td>2009ApJ...694.1085V</td><td>2.08</td><td>2002yCat.2237....0D</td><td>177.26490958333332,14.572058055555555,11.091</td><td>177.26244419834208,14.571508267084944,11.090999988901109</td><td>177.26244419834208,14.571508267084944,11.090999988901109</td><td>1</td><td>2.226873440198079</td><td>0.0 ..  3.0</td><td>0.0 ..  0.3</td><td>0.0 .. 4.3225998681176405e+25</td><td>0.0 .. 2.936923746921443e-15</td><td>-inf .. 25.63574503587803</td><td>13.0</td><td>13.0</td><td>-inf .. -9.061170245533612</td><td>8.345784037724602e+25</td><td>-8.775448139046736</td></tr>\n",
       "<tr><td>$\\delta$ Leo</td><td>2017-02-05T05:48:56</td><td>18932</td><td>168.5285</td><td>20.5240</td><td>10.1</td><td>delta Leo</td><td>2017-02-05</td><td>* del Leo</td><td>11 14 06.5014</td><td>+20 31 25.385</td><td>9</td><td>9</td><td>2.640</td><td>1.840</td><td>90</td><td>A</td><td>O</td><td>2007A&amp;A...474..653V</td><td>17.6930</td><td></td><td>pc</td><td>-0.2600</td><td>0.2600</td><td>ST-L</td><td>2009ApJ...694.1085V</td><td>143.420</td><td>-129.880</td><td>0.300</td><td>0.210</td><td>0</td><td>2007A&amp;A...474..653V</td><td>A5IV(n)</td><td>C</td><td>2003AJ....126.2048G</td><td>2.79</td><td>2002yCat.2237....0D</td><td>2.68</td><td>2002yCat.2237....0D</td><td>2.53</td><td>2009ApJ...694.1085V</td><td>2.44</td><td>2002yCat.2237....0D</td><td>168.52708916666663,20.523718055555555,17.693</td><td>168.52781645974414,20.523101225964965,17.692999994595084</td><td>168.52781645974414,20.523101225964965,17.692999994595084</td><td>3</td><td>2.2467980201729154</td><td>0.0 ..  4.8</td><td>0.0 ..  0.5</td><td>0.0 .. 1.775426584276924e+26</td><td>0.0 .. 4.740114244388723e-15</td><td>-inf .. 26.249302718483523</td><td>22.1</td><td>22.1</td><td>-inf .. -8.678061484306395</td><td>2.1225557157481705e+26</td><td>-8.6005051037682</td></tr>\n",
       "<tr><td>$\\tau^3$ Eri</td><td>2017-06-09T12:15:45</td><td>18933</td><td>45.5957</td><td>-23.6223</td><td>19.9</td><td>tau03 Eri</td><td>2017-06-09</td><td>* tau03 Eri</td><td>03 02 23.4993</td><td>-23 37 28.093</td><td>11</td><td>11</td><td>0.130</td><td>0.130</td><td>90</td><td>A</td><td>O</td><td>2007A&amp;A...474..653V</td><td>25.9169</td><td></td><td>pc</td><td>-0.2595</td><td>0.2595</td><td>paral</td><td>2018yCat.1345....0G</td><td>-147.250</td><td>-55.280</td><td>0.170</td><td>0.170</td><td>90</td><td>2007A&amp;A...474..653V</td><td>A3IV-V</td><td>C</td><td>2006AJ....132..161G</td><td>4.33</td><td>2002yCat.2237....0D</td><td>4.25</td><td>2002yCat.2237....0D</td><td>4.09</td><td>2002yCat.2237....0D</td><td>3.96</td><td>2002yCat.2237....0D</td><td>45.59791375,-23.624470277777778,25.9169</td><td>45.597135266916126,-23.624738036858812,25.916899991184867</td><td>45.59694082247168,-23.624738036858812,25.916899991184867</td><td>34</td><td>4.756601195331153</td><td>20.5 .. 39.8</td><td>1.0 ..  2.0</td><td>8.301564609024257e+26 .. 1.610085042085646e+27</td><td>1.0329585429592406e-14 .. 2.0034188462561865e-14</td><td>26.919159952258994 .. 27.2068488153692</td><td>12.0</td><td>12.0</td><td>-7.742993222893438 .. -7.455304359783233</td><td>2.306782864866291e+26</td><td>-8.299146458407005</td></tr>\n",
       "</table>"
      ],
      "text/plain": [
       "<Table length=4>\n",
       "   target          DATE-OBS      ... upper lim $\\log(L_X/L_\\mathrm{bol})$\n",
       "                                 ...                                     \n",
       "   str12            str19        ...               float64               \n",
       "------------ ------------------- ... ------------------------------------\n",
       " $\\iota$ Cen 2017-03-31T13:22:55 ...                   -8.535043063014019\n",
       " $\\beta$ Leo 2017-04-05T16:12:29 ...                   -8.775448139046736\n",
       "$\\delta$ Leo 2017-02-05T05:48:56 ...                     -8.6005051037682\n",
       "$\\tau^3$ Eri 2017-06-09T12:15:45 ...                   -8.299146458407005"
      ]
     },
     "execution_count": 304,
     "metadata": {},
     "output_type": "execute_result"
    }
   ],
   "source": [
    "targets"
   ]
  },
  {
   "cell_type": "markdown",
   "metadata": {},
   "source": [
    "Now, the net counts and net rate are columns with vectors values (lower, upper limit). For output to LaTeX, I want to reformat that a little."
   ]
  },
  {
   "cell_type": "code",
   "execution_count": 306,
   "metadata": {},
   "outputs": [],
   "source": [
    "# Some formatting for columns that we'll put out into LaTeX later\n",
    "for col in ['net. counts', 'net. rate', '$\\log(L_X)$', '$\\log(L_X/L_\\mathrm{bol})$',\n",
    "            'upper lim $\\log(L_X/L_\\mathrm{bol})$']:\n",
    "    targets[col].format='4.1f'\n",
    "for col in ['net. flux', 'lxlim']:\n",
    "    targets[col].format='7.2g'"
   ]
  },
  {
   "cell_type": "code",
   "execution_count": 307,
   "metadata": {},
   "outputs": [
    {
     "name": "stdout",
     "output_type": "stream",
     "text": [
      "\\begin{table}\n",
      "\\caption{Limits and fluxes. Ranges given are 90\\% confidence regions.\\label{tab:detections}}\n",
      "\\begin{tabular}{ccccccc}\n",
      "\\hline \\hline\n",
      "target & net. counts & net. rate & net. flux & $\\log(L_X/L_\\mathrm{bol})$ & lxlim & upper lim $\\log(L_X/L_\\mathrm{bol})$ \\\\\n",
      " & $\\mathrm{ct}$ & $\\mathrm{ct\\,ks^{-1}}$ & $\\mathrm{erg\\,s^{-1}\\,cm^{-2}}$ & $\\mathrm{}$ & $\\mathrm{erg\\,s^{-1}}$ & $\\mathrm{}$ \\\\\n",
      "\\hline\n",
      "$\\iota$ Cen & 0.0 ..  2.9 & 0.0 ..  0.3 & 0 ..   3e-15 & -inf .. -8.8 & 2.2e+26 & -8.5 \\\\\n",
      "$\\beta$ Leo & 0.0 ..  3.0 & 0.0 ..  0.3 & 0 .. 2.9e-15 & -inf .. -9.1 & 8.3e+25 & -8.8 \\\\\n",
      "$\\delta$ Leo & 0.0 ..  4.8 & 0.0 ..  0.5 & 0 .. 4.7e-15 & -inf .. -8.7 & 2.1e+26 & -8.6 \\\\\n",
      "$\\tau^3$ Eri & 20.5 .. 39.8 & 1.0 ..  2.0 & 1e-14 ..   2e-14 & -7.7 .. -7.5 & 2.3e+26 & -8.3 \\\\\n",
      "\\hline\n",
      "\\end{tabular}\n",
      "\\end{table}\n"
     ]
    }
   ],
   "source": [
    "targets['target', 'net. counts', 'net. rate', 'net. flux', '$\\log(L_X/L_\\mathrm{bol})$', \n",
    "        'lxlim', 'upper lim $\\log(L_X/L_\\mathrm{bol})$'].write(sys.stdout,\n",
    "            format='ascii.latex', latexdict=ascii.latexdicts['AA'],\n",
    "            caption=r'Limits and fluxes. Ranges given are 90\\% confidence regions.\\label{tab:detections}')"
   ]
  },
  {
   "cell_type": "code",
   "execution_count": null,
   "metadata": {},
   "outputs": [],
   "source": []
  }
 ],
 "metadata": {
  "kernelspec": {
   "display_name": "Python 3",
   "language": "python",
   "name": "python3"
  },
  "language_info": {
   "codemirror_mode": {
    "name": "ipython",
    "version": 3
   },
   "file_extension": ".py",
   "mimetype": "text/x-python",
   "name": "python",
   "nbconvert_exporter": "python",
   "pygments_lexer": "ipython3",
   "version": "3.7.7"
  }
 },
 "nbformat": 4,
 "nbformat_minor": 4
}
